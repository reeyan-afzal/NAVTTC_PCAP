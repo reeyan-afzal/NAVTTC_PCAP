{
 "cells": [
  {
   "cell_type": "markdown",
   "id": "3edd51a6-0a1a-418c-8053-879340730eae",
   "metadata": {},
   "source": [
    "### NAVTTC - Final Exam\n",
    "\n",
    "**Name:** Reeyan Afzal \\\n",
    "**CNIC:** 14301-2181062-9 \\\n",
    "**Roll No:** 896390 \n",
    "\n",
    "**Advanced Python & Application**"
   ]
  },
  {
   "cell_type": "markdown",
   "id": "67158f81-44e8-437c-a850-8676132eefff",
   "metadata": {},
   "source": [
    "Implement a Shape Hierarchy using **Polymorphism**. Create a base class **Shape** with a method *area()* that\n",
    "raise a NotImplementedError. This will act as the base class for different types of Shapes.\n",
    "\n",
    "Create Two Subclasses:\n",
    "\n",
    "**Rectangle** class with attributes *width* and *height*, and an *area()* method that calculates the area of a circle.\n",
    "Implement a function **print_area(shape)** that accepts any shape object and prints the area by calling the *area()* method.\n",
    "Use polymorphism to handle different shapes."
   ]
  },
  {
   "cell_type": "code",
   "execution_count": 12,
   "id": "fd71eb1b-8b27-4647-8d6a-1de08913981c",
   "metadata": {},
   "outputs": [],
   "source": [
    "from math import pi\n",
    "\n",
    "\n",
    "class Shape:\n",
    "    def __init__(self, name):\n",
    "        self.name = name\n",
    "\n",
    "    def area(self):\n",
    "        raise NotImplementedError(\"Subclasses must implement the area method.\")"
   ]
  },
  {
   "cell_type": "code",
   "execution_count": 14,
   "id": "36139be5-c5fb-48ee-a61d-03274f9f49ba",
   "metadata": {},
   "outputs": [],
   "source": [
    "class Rectangle(Shape):\n",
    "    def __init__(self, width, height):\n",
    "        super().__init__(\"Rectangle\")\n",
    "        self.width = width\n",
    "        self.height = height\n",
    "\n",
    "    def area(self):\n",
    "        return self.height * self.width"
   ]
  },
  {
   "cell_type": "code",
   "execution_count": 16,
   "id": "71a91d45-d869-42e6-8e96-b17365a25405",
   "metadata": {},
   "outputs": [],
   "source": [
    "class Circle(Shape):\n",
    "    def __init__(self, radius):\n",
    "        super().__init__(\"Circle\")\n",
    "        self.radius = radius\n",
    "\n",
    "    def area(self):\n",
    "        return pi * (self.radius ** 2)"
   ]
  },
  {
   "cell_type": "code",
   "execution_count": 18,
   "id": "2aba1a20-9e35-4836-8c4c-997322f03470",
   "metadata": {},
   "outputs": [
    {
     "name": "stdout",
     "output_type": "stream",
     "text": [
      "The area of the Rectangle is: 50.00\n",
      "The area of the Circle is: 153.94\n"
     ]
    }
   ],
   "source": [
    "def print_area(shape: Shape):\n",
    "    print(f\"The area of the {shape.name} is: {shape.area():.2f}\")\n",
    "\n",
    "\n",
    "rectangle = Rectangle(5, 10)\n",
    "circle = Circle(7)\n",
    "\n",
    "print_area(rectangle)\n",
    "print_area(circle)"
   ]
  }
 ],
 "metadata": {
  "kernelspec": {
   "display_name": "Python 3 (ipykernel)",
   "language": "python",
   "name": "python3"
  },
  "language_info": {
   "codemirror_mode": {
    "name": "ipython",
    "version": 3
   },
   "file_extension": ".py",
   "mimetype": "text/x-python",
   "name": "python",
   "nbconvert_exporter": "python",
   "pygments_lexer": "ipython3",
   "version": "3.12.4"
  }
 },
 "nbformat": 4,
 "nbformat_minor": 5
}
